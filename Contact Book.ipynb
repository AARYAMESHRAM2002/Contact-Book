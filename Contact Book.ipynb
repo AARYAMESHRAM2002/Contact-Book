{
 "cells": [
  {
   "cell_type": "code",
   "execution_count": 1,
   "id": "e38a3c20-5d8e-4904-9700-f93260cbab78",
   "metadata": {},
   "outputs": [
    {
     "name": "stdout",
     "output_type": "stream",
     "text": [
      "\n",
      "1.Add Contact\n",
      "2.Display Contact\n",
      "3.Search Contact\n",
      "4.Delete Contact\n",
      "5.Exit\n"
     ]
    },
    {
     "name": "stdin",
     "output_type": "stream",
     "text": [
      "Enter choice: 1\n",
      "Enter name: Aarav\n",
      "Enter phone number: 956767767\n",
      "Enter email: aarav@123\n"
     ]
    },
    {
     "name": "stdout",
     "output_type": "stream",
     "text": [
      "Contact added successfully!\n",
      "\n",
      "1.Add Contact\n",
      "2.Display Contact\n",
      "3.Search Contact\n",
      "4.Delete Contact\n",
      "5.Exit\n"
     ]
    },
    {
     "name": "stdin",
     "output_type": "stream",
     "text": [
      "Enter choice: 2\n"
     ]
    },
    {
     "name": "stdout",
     "output_type": "stream",
     "text": [
      "Name:aarya,Phone454545,Email:aarya@123\n",
      "Name:sd,Phonety,Email:hgy\n",
      "Name:aarya,Phone3455,Email:aarya@123\n",
      "Name:aarya,Phoneaarya@123,Email:aarya@123\n",
      "Name:aarya,Phone1234,Email:aarya@123\n",
      "Name:aarya,Phone1234,Email:aarya@123\n",
      "Name:aarya,Phone1234,Email:aarya@123\n",
      "Name:Aarav,Phone9527589132,Email:aarya@123\n",
      "Name:Aarav,Phone956767767,Email:aarav@123\n",
      "\n",
      "1.Add Contact\n",
      "2.Display Contact\n",
      "3.Search Contact\n",
      "4.Delete Contact\n",
      "5.Exit\n"
     ]
    },
    {
     "name": "stdin",
     "output_type": "stream",
     "text": [
      "Enter choice: Aarav\n"
     ]
    },
    {
     "name": "stdout",
     "output_type": "stream",
     "text": [
      "Invalid choice,try again.\n",
      "\n",
      "1.Add Contact\n",
      "2.Display Contact\n",
      "3.Search Contact\n",
      "4.Delete Contact\n",
      "5.Exit\n"
     ]
    },
    {
     "name": "stdin",
     "output_type": "stream",
     "text": [
      "Enter choice: 1\n",
      "Enter name: Monika\n",
      "Enter phone number: 099689086\n",
      "Enter email: moni@23\n"
     ]
    },
    {
     "name": "stdout",
     "output_type": "stream",
     "text": [
      "Contact added successfully!\n",
      "\n",
      "1.Add Contact\n",
      "2.Display Contact\n",
      "3.Search Contact\n",
      "4.Delete Contact\n",
      "5.Exit\n"
     ]
    },
    {
     "name": "stdin",
     "output_type": "stream",
     "text": [
      "Enter choice: 2\n"
     ]
    },
    {
     "name": "stdout",
     "output_type": "stream",
     "text": [
      "Name:aarya,Phone454545,Email:aarya@123\n",
      "Name:sd,Phonety,Email:hgy\n",
      "Name:aarya,Phone3455,Email:aarya@123\n",
      "Name:aarya,Phoneaarya@123,Email:aarya@123\n",
      "Name:aarya,Phone1234,Email:aarya@123\n",
      "Name:aarya,Phone1234,Email:aarya@123\n",
      "Name:aarya,Phone1234,Email:aarya@123\n",
      "Name:Aarav,Phone9527589132,Email:aarya@123\n",
      "Name:Aarav,Phone956767767,Email:aarav@123\n",
      "Name:Monika,Phone099689086,Email:moni@23\n",
      "\n",
      "1.Add Contact\n",
      "2.Display Contact\n",
      "3.Search Contact\n",
      "4.Delete Contact\n",
      "5.Exit\n"
     ]
    },
    {
     "name": "stdin",
     "output_type": "stream",
     "text": [
      "Enter choice: 3\n",
      "Enter name to search: Monika\n"
     ]
    },
    {
     "name": "stdout",
     "output_type": "stream",
     "text": [
      "Name:11,PhoneMonika,Email:099689086\n",
      "\n",
      "1.Add Contact\n",
      "2.Display Contact\n",
      "3.Search Contact\n",
      "4.Delete Contact\n",
      "5.Exit\n"
     ]
    },
    {
     "name": "stdin",
     "output_type": "stream",
     "text": [
      "Enter choice: 4\n",
      "Enter name to delete: Monika\n"
     ]
    },
    {
     "name": "stdout",
     "output_type": "stream",
     "text": [
      "Contact deleted successfully!\n",
      "\n",
      "1.Add Contact\n",
      "2.Display Contact\n",
      "3.Search Contact\n",
      "4.Delete Contact\n",
      "5.Exit\n"
     ]
    },
    {
     "name": "stdin",
     "output_type": "stream",
     "text": [
      "Enter choice: 5\n"
     ]
    },
    {
     "name": "stdout",
     "output_type": "stream",
     "text": [
      "Goodbye!\n"
     ]
    }
   ],
   "source": [
    "import mysql.connector\n",
    "#establish connections to MYSQL:\n",
    "def get_connection():\n",
    "    return mysql.connector.connect(\n",
    "        host=\"localhost\",database=\"contact_book\",user=\"root\",password=\"gungun123\")\n",
    "#ADD CONTACT:\n",
    "def add_contact():\n",
    "    name=input(\"Enter name:\")\n",
    "    phone=input(\"Enter phone number:\")\n",
    "    email=input(\"Enter email:\")\n",
    "    conn=get_connection()\n",
    "    cursor=conn.cursor()\n",
    "    cursor.execute(\"INSERT INTO contacts(name,phone,email)VALUES(%s,%s,%s)\",(name,phone,email))\n",
    "    conn.commit()\n",
    "    print(\"Contact added successfully!\")\n",
    "    conn.close()\n",
    "#DIPLAY ALL CONTACTS:\n",
    "def display_contacts():\n",
    "    conn=get_connection()\n",
    "    cursor=conn.cursor()\n",
    "    cursor.execute(\"SELECT name,phone,email FROM contacts\")\n",
    "    for row in cursor.fetchall():\n",
    "        print(f\"Name:{row[0]},Phone{row[1]},Email:{row[2]}\")\n",
    "    conn.close()\n",
    "#SEARCH CONTACTS:\n",
    "def search_contact():\n",
    "    name=input(\"Enter name to search:\")\n",
    "    conn=get_connection()\n",
    "    cursor=conn.cursor()\n",
    "    cursor.execute(\"SELECT*FROM contacts WHERE name=%s\",(name,))\n",
    "    contact=cursor.fetchone()\n",
    "    if contact:\n",
    "        print(f\"Name:{contact[0]},Phone{contact[1]},Email:{contact[2]}\")\n",
    "    else:\n",
    "        print(\"Contact not found.\")\n",
    "    conn.close()\n",
    "#DELETE CONTACTS:\n",
    "def delete_contact():\n",
    "    name=input(\"Enter name to delete:\")\n",
    "    conn=get_connection()\n",
    "    cursor=conn.cursor()\n",
    "    cursor.execute(\"DELETE FROM contacts WHERE name=%s\",(name,))\n",
    "    conn.commit()\n",
    "    print(\"Contact deleted successfully!\")\n",
    "    conn.close()\n",
    "#MAIN MENU:\n",
    "def main():\n",
    "    while True:\n",
    "        print(\"\\n1.Add Contact\\n2.Display Contact\\n3.Search Contact\\n4.Delete Contact\\n5.Exit\")\n",
    "        choice = input(\"Enter choice:\")\n",
    "        if choice == '1':\n",
    "            add_contact()\n",
    "        elif choice == '2':\n",
    "            display_contacts()\n",
    "        elif choice =='3':\n",
    "            search_contact()\n",
    "        elif choice =='4':\n",
    "            delete_contact()\n",
    "        elif choice =='5':\n",
    "            print(\"Goodbye!\")\n",
    "            break\n",
    "        else:\n",
    "             print(\"Invalid choice,try again.\")\n",
    "main()"
   ]
  },
  {
   "cell_type": "code",
   "execution_count": null,
   "id": "62fd0a9c-0755-4467-887c-13daab5da4b8",
   "metadata": {},
   "outputs": [],
   "source": []
  }
 ],
 "metadata": {
  "kernelspec": {
   "display_name": "Python [conda env:base] *",
   "language": "python",
   "name": "conda-base-py"
  },
  "language_info": {
   "codemirror_mode": {
    "name": "ipython",
    "version": 3
   },
   "file_extension": ".py",
   "mimetype": "text/x-python",
   "name": "python",
   "nbconvert_exporter": "python",
   "pygments_lexer": "ipython3",
   "version": "3.12.7"
  }
 },
 "nbformat": 4,
 "nbformat_minor": 5
}
